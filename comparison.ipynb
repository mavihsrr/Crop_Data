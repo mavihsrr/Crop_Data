{
 "cells": [
  {
   "cell_type": "markdown",
   "id": "4c22c523",
   "metadata": {},
   "source": [
    "# Total Comparison\n"
   ]
  },
  {
   "cell_type": "markdown",
   "id": "3892c90c",
   "metadata": {},
   "source": [
    "### Importing all Libraries"
   ]
  },
  {
   "cell_type": "code",
   "execution_count": 6,
   "id": "c80ee48c",
   "metadata": {},
   "outputs": [],
   "source": [
    "import numpy as np\n",
    "import matplotlib.pyplot as plt\n",
    "import pandas as pd\n",
    "from sklearn.preprocessing import StandardScaler, LabelEncoder\n",
    "from sklearn.metrics import confusion_matrix, accuracy_score, precision_score, recall_score, f1_score\n",
    "import seaborn as sns\n"
   ]
  },
  {
   "cell_type": "markdown",
   "id": "d8dd341e",
   "metadata": {},
   "source": [
    "### Importing the Dataset\n"
   ]
  },
  {
   "cell_type": "code",
   "execution_count": 7,
   "id": "21828689",
   "metadata": {},
   "outputs": [],
   "source": [
    "dataset = pd.read_csv('Crop_recommendation.csv')\n",
    "X = dataset.iloc[:, :-1].values\n",
    "y = dataset.iloc[:, -1].values"
   ]
  },
  {
   "cell_type": "code",
   "execution_count": 8,
   "id": "63da2c79",
   "metadata": {},
   "outputs": [],
   "source": [
    "#Encode the target variable from string labels to integer labels\n",
    "label_encoder = LabelEncoder()\n",
    "y = label_encoder.fit_transform(y)"
   ]
  },
  {
   "cell_type": "markdown",
   "id": "b2e54689",
   "metadata": {},
   "source": [
    "### Training"
   ]
  },
  {
   "cell_type": "code",
   "execution_count": 9,
   "id": "32f372c9",
   "metadata": {},
   "outputs": [],
   "source": [
    "from sklearn.model_selection import train_test_split\n",
    "X_train, X_test, y_train, y_test = train_test_split(X, y, test_size = 0.25, random_state = 0)"
   ]
  },
  {
   "cell_type": "markdown",
   "id": "93add5c4",
   "metadata": {},
   "source": [
    "### DT"
   ]
  },
  {
   "cell_type": "code",
   "execution_count": 10,
   "id": "348de038",
   "metadata": {},
   "outputs": [
    {
     "name": "stdout",
     "output_type": "stream",
     "text": [
      "0.9836363636363636\n"
     ]
    }
   ],
   "source": [
    "from sklearn.tree import DecisionTreeClassifier\n",
    "dt_classifier = DecisionTreeClassifier(criterion = 'entropy', random_state = 0)\n",
    "dt_classifier.fit(X_train, y_train)\n",
    "y_pred_dt = dt_classifier.predict(X_test)\n",
    "accuracy_dt = accuracy_score(y_test, y_pred_dt)\n",
    "print(accuracy_dt)"
   ]
  },
  {
   "cell_type": "code",
   "execution_count": null,
   "id": "4e5b104c",
   "metadata": {},
   "outputs": [],
   "source": []
  },
  {
   "cell_type": "markdown",
   "id": "7352f22d",
   "metadata": {},
   "source": [
    "### Random Forest"
   ]
  },
  {
   "cell_type": "code",
   "execution_count": 11,
   "id": "34eb5530",
   "metadata": {},
   "outputs": [
    {
     "name": "stdout",
     "output_type": "stream",
     "text": [
      "0.9927272727272727\n"
     ]
    }
   ],
   "source": [
    "from sklearn.ensemble import RandomForestClassifier\n",
    "rf_classifier = RandomForestClassifier(n_estimators = 10, criterion = 'entropy', random_state = 0)\n",
    "rf_classifier.fit(X_train, y_train)\n",
    "y_pred_rf = rf_classifier.predict(X_test)\n",
    "accuracy_rf = accuracy_score(y_test, y_pred_rf)\n",
    "print(accuracy_rf)"
   ]
  },
  {
   "cell_type": "code",
   "execution_count": null,
   "id": "63fb220b",
   "metadata": {},
   "outputs": [],
   "source": []
  },
  {
   "cell_type": "markdown",
   "id": "f6cad838",
   "metadata": {},
   "source": [
    "### XG_BOOST"
   ]
  },
  {
   "cell_type": "code",
   "execution_count": 13,
   "id": "26cc295a",
   "metadata": {},
   "outputs": [
    {
     "name": "stdout",
     "output_type": "stream",
     "text": [
      "0.9945454545454545\n"
     ]
    }
   ],
   "source": [
    "from xgboost import XGBClassifier\n",
    "xgb_classifier = XGBClassifier(random_state=0)\n",
    "xgb_classifier.fit(X_train, y_train)\n",
    "y_pred_xgb = xgb_classifier.predict(X_test)\n",
    "accuracy_xgb = accuracy_score(y_test, y_pred_xgb)\n",
    "print(accuracy_xgb)"
   ]
  },
  {
   "cell_type": "code",
   "execution_count": null,
   "id": "2b489cc6",
   "metadata": {},
   "outputs": [],
   "source": []
  },
  {
   "cell_type": "markdown",
   "id": "8f7e433d",
   "metadata": {},
   "source": [
    "## Comparing accuracy"
   ]
  },
  {
   "cell_type": "code",
   "execution_count": 14,
   "id": "3d1b3a17",
   "metadata": {},
   "outputs": [
    {
     "name": "stdout",
     "output_type": "stream",
     "text": [
      "Model Accuracy Comparison:\n",
      "           Model  Accuracy\n",
      "0  Random Forest  0.992727\n",
      "1        XGBoost  0.994545\n",
      "2  Decision Tree  0.983636\n"
     ]
    }
   ],
   "source": [
    "model_accuracy_df = pd.DataFrame({\n",
    "    'Model': ['Random Forest', 'XGBoost', 'Decision Tree'],\n",
    "    'Accuracy': [accuracy_rf, accuracy_xgb, accuracy_dt]\n",
    "})\n",
    "\n",
    "print(\"Model Accuracy Comparison:\")\n",
    "print(model_accuracy_df)"
   ]
  },
  {
   "cell_type": "markdown",
   "id": "2115ef52",
   "metadata": {},
   "source": [
    "# Bar Graph"
   ]
  },
  {
   "cell_type": "code",
   "execution_count": 15,
   "id": "9285b97a",
   "metadata": {},
   "outputs": [
    {
     "data": {
      "image/png": "[encoded data removed]",
      "text/plain": [
       "<Figure size 576x432 with 1 Axes>"
      ]
     },
     "metadata": {
      "needs_background": "light"
     },
     "output_type": "display_data"
    }
   ],
   "source": [
    "plt.figure(figsize=(8, 6))\n",
    "plt.bar(model_accuracy_df['Model'], model_accuracy_df['Accuracy'])\n",
    "plt.ylim(0.8, 1.0)\n",
    "plt.ylabel('Accuracy')\n",
    "plt.title('Model Accuracy Comparison')\n",
    "plt.show()\n",
    "\n"
   ]
  },
  {
   "cell_type": "code",
   "execution_count": null,
   "id": "54bb5643",
   "metadata": {},
   "outputs": [],
   "source": [
    "import seaborn as sns\n",
    "from sklearn.metrics import classification_report\n",
    "\n",
    "#confusion matrix for each model\n",
    "cm_rf = confusion_matrix(y_test, y_pred_rf)\n",
    "cm_xgb = confusion_matrix(y_test, y_pred_xgb)\n",
    "cm_dt = confusion_matrix(y_test, y_pred_dt)\n",
    "\n",
    "#classification report for each model\n",
    "cr_rf = classification_report(y_test, y_pred_rf, target_names=label_encoder.classes_)\n",
    "cr_xgb = classification_report(y_test, y_pred_xgb, target_names=label_encoder.classes_)\n",
    "cr_dt = classification_report(y_test, y_pred_dt, target_names=label_encoder.classes_)"
   ]
  },
  {
   "cell_type": "markdown",
   "id": "f0c9e00b",
   "metadata": {},
   "source": [
    "# Classification Report for each Model"
   ]
  },
  {
   "cell_type": "code",
   "execution_count": 18,
   "id": "dbb3f8ee",
   "metadata": {
    "scrolled": true
   },
   "outputs": [
    {
     "name": "stdout",
     "output_type": "stream",
     "text": [
      "Random Forest - Classification Report:\n",
      "              precision    recall  f1-score   support\n",
      "\n",
      "       apple       1.00      1.00      1.00        24\n",
      "      banana       1.00      1.00      1.00        24\n",
      "   blackgram       1.00      1.00      1.00        26\n",
      "    chickpea       1.00      1.00      1.00        28\n",
      "     coconut       1.00      1.00      1.00        19\n",
      "      coffee       1.00      1.00      1.00        24\n",
      "      cotton       1.00      1.00      1.00        21\n",
      "      grapes       1.00      1.00      1.00        24\n",
      "        jute       0.96      0.89      0.93        28\n",
      " kidneybeans       1.00      1.00      1.00        23\n",
      "      lentil       1.00      1.00      1.00        17\n",
      "       maize       1.00      1.00      1.00        22\n",
      "       mango       1.00      1.00      1.00        24\n",
      "   mothbeans       1.00      1.00      1.00        29\n",
      "    mungbean       1.00      1.00      1.00        27\n",
      "   muskmelon       1.00      1.00      1.00        27\n",
      "      orange       1.00      1.00      1.00        27\n",
      "      papaya       1.00      1.00      1.00        28\n",
      "  pigeonpeas       1.00      1.00      1.00        27\n",
      " pomegranate       1.00      1.00      1.00        28\n",
      "        rice       0.90      0.97      0.93        29\n",
      "  watermelon       1.00      1.00      1.00        24\n",
      "\n",
      "    accuracy                           0.99       550\n",
      "   macro avg       0.99      0.99      0.99       550\n",
      "weighted avg       0.99      0.99      0.99       550\n",
      "\n",
      "\n",
      "XGBoost - Classification Report:\n",
      "              precision    recall  f1-score   support\n",
      "\n",
      "       apple       1.00      1.00      1.00        24\n",
      "      banana       1.00      1.00      1.00        24\n",
      "   blackgram       1.00      1.00      1.00        26\n",
      "    chickpea       1.00      1.00      1.00        28\n",
      "     coconut       1.00      1.00      1.00        19\n",
      "      coffee       0.96      1.00      0.98        24\n",
      "      cotton       0.95      1.00      0.98        21\n",
      "      grapes       1.00      1.00      1.00        24\n",
      "        jute       1.00      0.96      0.98        28\n",
      " kidneybeans       1.00      1.00      1.00        23\n",
      "      lentil       1.00      0.94      0.97        17\n",
      "       maize       1.00      0.95      0.98        22\n",
      "       mango       1.00      1.00      1.00        24\n",
      "   mothbeans       0.97      1.00      0.98        29\n",
      "    mungbean       1.00      1.00      1.00        27\n",
      "   muskmelon       1.00      1.00      1.00        27\n",
      "      orange       1.00      1.00      1.00        27\n",
      "      papaya       1.00      1.00      1.00        28\n",
      "  pigeonpeas       1.00      1.00      1.00        27\n",
      " pomegranate       1.00      1.00      1.00        28\n",
      "        rice       1.00      1.00      1.00        29\n",
      "  watermelon       1.00      1.00      1.00        24\n",
      "\n",
      "    accuracy                           0.99       550\n",
      "   macro avg       0.99      0.99      0.99       550\n",
      "weighted avg       0.99      0.99      0.99       550\n",
      "\n",
      "\n",
      "Decision Tree - Classification Report:\n",
      "              precision    recall  f1-score   support\n",
      "\n",
      "       apple       1.00      1.00      1.00        24\n",
      "      banana       1.00      1.00      1.00        24\n",
      "   blackgram       0.96      0.96      0.96        26\n",
      "    chickpea       1.00      1.00      1.00        28\n",
      "     coconut       1.00      1.00      1.00        19\n",
      "      coffee       1.00      0.92      0.96        24\n",
      "      cotton       1.00      1.00      1.00        21\n",
      "      grapes       1.00      1.00      1.00        24\n",
      "        jute       1.00      0.89      0.94        28\n",
      " kidneybeans       1.00      1.00      1.00        23\n",
      "      lentil       1.00      1.00      1.00        17\n",
      "       maize       0.87      0.91      0.89        22\n",
      "       mango       1.00      1.00      1.00        24\n",
      "   mothbeans       0.97      0.97      0.97        29\n",
      "    mungbean       0.96      1.00      0.98        27\n",
      "   muskmelon       1.00      1.00      1.00        27\n",
      "      orange       1.00      1.00      1.00        27\n",
      "      papaya       0.93      1.00      0.97        28\n",
      "  pigeonpeas       1.00      1.00      1.00        27\n",
      " pomegranate       1.00      1.00      1.00        28\n",
      "        rice       0.97      1.00      0.98        29\n",
      "  watermelon       1.00      1.00      1.00        24\n",
      "\n",
      "    accuracy                           0.98       550\n",
      "   macro avg       0.98      0.98      0.98       550\n",
      "weighted avg       0.98      0.98      0.98       550\n",
      "\n"
     ]
    }
   ],
   "source": [
    "# Print classification reports\n",
    "print(\"Random Forest - Classification Report:\")\n",
    "print(cr_rf)\n",
    "print(\"\\nXGBoost - Classification Report:\")\n",
    "print(cr_xgb)\n",
    "print(\"\\nDecision Tree - Classification Report:\")\n",
    "print(cr_dt)\n"
   ]
  },
  {
   "cell_type": "markdown",
   "id": "fb7fc33f",
   "metadata": {},
   "source": [
    "# Visulasing Confusion Matrix"
   ]
  },
  {
   "cell_type": "code",
   "execution_count": null,
   "id": "70148d4c",
   "metadata": {},
   "outputs": [],
   "source": [
    "#Visualizing confusion matrices\n",
    "plt.figure(figsize=(15, 5))\n",
    "plt.subplot(131)\n",
    "sns.heatmap(cm_rf, annot=True, fmt='d', cmap='Blues', xticklabels=label_encoder.classes_, yticklabels=label_encoder.classes_)\n",
    "plt.title('Random Forest - Confusion Matrix')\n",
    "\n",
    "plt.subplot(132)\n",
    "sns.heatmap(cm_xgb, annot=True, fmt='d', cmap='Greens', xticklabels=label_encoder.classes_, yticklabels=label_encoder.classes_)\n",
    "plt.title('XGBoost - Confusion Matrix')\n",
    "\n",
    "plt.subplot(133)\n",
    "sns.heatmap(cm_dt, annot=True, fmt='d', cmap='Oranges', xticklabels=label_encoder.classes_, yticklabels=label_encoder.classes_)\n",
    "plt.title('Decision Tree - Confusion Matrix')\n",
    "\n",
    "plt.tight_layout()\n",
    "plt.show()"
   ]
  }
 ],
 "metadata": {
  "kernelspec": {
   "display_name": "Python 3 (ipykernel)",
   "language": "python",
   "name": "python3"
  },
  "language_info": {
   "codemirror_mode": {
    "name": "ipython",
    "version": 3
   },
   "file_extension": ".py",
   "mimetype": "text/x-python",
   "name": "python",
   "nbconvert_exporter": "python",
   "pygments_lexer": "ipython3",
   "version": "3.10.4"
  }
 },
 "nbformat": 4,
 "nbformat_minor": 5
}
